{
 "cells": [
  {
   "cell_type": "code",
   "execution_count": 1,
   "metadata": {},
   "outputs": [],
   "source": [
    "import math\n",
    "import random\n",
    "import statistics\n",
    "import numpy as np\n",
    "import pandas as pd\n",
    "import seaborn as sns\n",
    "import matplotlib.pyplot as plt\n",
    "\n",
    "from scipy.optimize import curve_fit\n",
    "from sklearn.impute import SimpleImputer\n",
    "from sklearn.metrics import mean_squared_error\n",
    "from sklearn.linear_model import LinearRegression\n",
    "from sklearn.model_selection import train_test_split"
   ]
  },
  {
   "cell_type": "code",
   "execution_count": 33,
   "metadata": {},
   "outputs": [],
   "source": [
    "%run '/Users/sabanejad/Projects/demand-response/functions.py'"
   ]
  },
  {
   "cell_type": "code",
   "execution_count": 5,
   "metadata": {},
   "outputs": [],
   "source": [
    "total_usage = pd.read_parquet('total_usage.gzip')\n",
    "total_acorn = pd.read_parquet('total_acorn.gzip')\n",
    "tariffs = pd.read_parquet('tariffs.gzip')"
   ]
  },
  {
   "cell_type": "code",
   "execution_count": 32,
   "metadata": {},
   "outputs": [],
   "source": [
    "total_usage_2011 = pd.read_parquet('total_usage_2011.gzip')\n",
    "total_usage_2012 = pd.read_parquet('total_usage_2012.gzip')\n",
    "total_usage_2013 = pd.read_parquet('total_usage_2013.gzip')\n",
    "total_usage_2014 = pd.read_parquet('total_usage_2014.gzip')"
   ]
  },
  {
   "cell_type": "code",
   "execution_count": 30,
   "metadata": {},
   "outputs": [],
   "source": [
    "# remove feb 29, 2012 from the 2012 data\n",
    "total_usage_2012 = total_usage_2012.loc[(total_usage_2012['date_time'].dt.normalize() != '2012-02-29')]"
   ]
  },
  {
   "cell_type": "code",
   "execution_count": 34,
   "metadata": {},
   "outputs": [],
   "source": [
    "df_2011_treatment, df_2011_control = split_t_c(total_usage_2011)\n",
    "df_2012_treatment, df_2012_control = split_t_c(total_usage_2012)\n",
    "df_2013_treatment, df_2013_control = split_t_c(total_usage_2013)\n",
    "df_2014_treatment, df_2014_control = split_t_c(total_usage_2014)"
   ]
  },
  {
   "cell_type": "code",
   "execution_count": 8,
   "metadata": {},
   "outputs": [],
   "source": [
    "matrix = total_usage.pivot_table(index='house_id', columns='date_time', values='KWH/hh')"
   ]
  },
  {
   "cell_type": "code",
   "execution_count": 28,
   "metadata": {},
   "outputs": [
    {
     "data": {
      "image/png": "[encoded data removed]",
      "text/plain": [
       "<Figure size 432x288 with 1 Axes>"
      ]
     },
     "metadata": {
      "needs_background": "light"
     },
     "output_type": "display_data"
    }
   ],
   "source": [
    "plt.hist(percentage_missing_house.values, color = 'blue', edgecolor = 'black', bins = 80)\n",
    "plt.title('Histogram of Percentage of House Data Missing')\n",
    "plt.xlabel('Percentage Missing')\n",
    "plt.ylabel('Count of House Missing');"
   ]
  },
  {
   "cell_type": "code",
   "execution_count": 27,
   "metadata": {},
   "outputs": [
    {
     "data": {
      "image/png": "[encoded data removed]",
      "text/plain": [
       "<Figure size 432x288 with 1 Axes>"
      ]
     },
     "metadata": {
      "needs_background": "light"
     },
     "output_type": "display_data"
    }
   ],
   "source": [
    "plt.hist(percentage_missing_time.values, color = 'blue', edgecolor = 'black', bins = 80)\n",
    "plt.title('Histogram of Percentage of Time Data Missing')\n",
    "plt.xlabel('Percentage Missing')\n",
    "plt.ylabel('Count of HH Data Missing');"
   ]
  },
  {
   "cell_type": "code",
   "execution_count": null,
   "metadata": {},
   "outputs": [],
   "source": [
    "# percentages instead of counts?"
   ]
  },
  {
   "cell_type": "code",
   "execution_count": 35,
   "metadata": {},
   "outputs": [],
   "source": [
    "def get_dist(df):\n",
    "    \n",
    "    mat = df.pivot_table(index='house_id', columns='date_time', values='KWH/hh')\n",
    "    \n",
    "    percentage_missing_house = matrix.isna().sum(axis=1) / matrix.shape[1]\n",
    "    percentage_missing_time = matrix.isna().sum(axis=0) / matrix.shape[0]\n",
    "    \n",
    "    plt.hist(percentage_missing_house.values, color = 'blue', edgecolor = 'black', bins = 80)\n",
    "    plt.title('Histogram of Percentage of House Data Missing')\n",
    "    plt.xlabel('Percentage Missing')\n",
    "    plt.ylabel('Count of House Missing');\n",
    "    \n",
    "    plt.hist(percentage_missing_time.values, color = 'blue', edgecolor = 'black', bins = 80)\n",
    "    plt.title('Histogram of Percentage of Time Data Missing')\n",
    "    plt.xlabel('Percentage Missing')\n",
    "    plt.ylabel('Count of HH Data Missing');\n",
    "\n",
    "    return percentage_missing_house, percentage_missing_time"
   ]
  },
  {
   "cell_type": "code",
   "execution_count": 51,
   "metadata": {},
   "outputs": [
    {
     "name": "stdout",
     "output_type": "stream",
     "text": [
      "(4411, 17520)\n",
      "(881, 17520)\n"
     ]
    }
   ],
   "source": [
    "a_2013_ = df_2013_control.pivot_table(index='house_id', columns='date_time', values='KWH/hh')\n",
    "print(a_2013_.shape)\n",
    "a_2013_.dropna(inplace=True)\n",
    "print(a_2013_.shape)"
   ]
  },
  {
   "cell_type": "code",
   "execution_count": 52,
   "metadata": {},
   "outputs": [
    {
     "name": "stdout",
     "output_type": "stream",
     "text": [
      "(4431, 17568)\n",
      "(51, 17568)\n"
     ]
    }
   ],
   "source": [
    "a_2012_ = df_2012_control.pivot_table(index='house_id', columns='date_time', values='KWH/hh')\n",
    "print(a_2012_.shape)\n",
    "a_2012_.dropna(inplace=True)\n",
    "print(a_2012_.shape)"
   ]
  },
  {
   "cell_type": "code",
   "execution_count": 53,
   "metadata": {},
   "outputs": [
    {
     "name": "stdout",
     "output_type": "stream",
     "text": [
      "(1118, 17568)\n",
      "(9, 17568)\n"
     ]
    }
   ],
   "source": [
    "b_2012_ = df_2012_treatment.pivot_table(index='house_id', columns='date_time', values='KWH/hh')\n",
    "print(b_2012_.shape)\n",
    "b_2012_.dropna(inplace=True)\n",
    "print(b_2012_.shape)"
   ]
  },
  {
   "cell_type": "code",
   "execution_count": 48,
   "metadata": {},
   "outputs": [
    {
     "name": "stdout",
     "output_type": "stream",
     "text": [
      "(4411, 17520)\n",
      "(4411, 0)\n"
     ]
    }
   ],
   "source": [
    "a_2013_ = df_2013_control.pivot_table(index='house_id', columns='date_time', values='KWH/hh')\n",
    "print(a_2013_.shape)\n",
    "a_2013_.dropna(axis=1, inplace=True)\n",
    "print(a_2013_.shape)"
   ]
  },
  {
   "cell_type": "code",
   "execution_count": 49,
   "metadata": {},
   "outputs": [
    {
     "name": "stdout",
     "output_type": "stream",
     "text": [
      "(4431, 17568)\n",
      "(4431, 0)\n"
     ]
    }
   ],
   "source": [
    "a_2012_ = df_2012_control.pivot_table(index='house_id', columns='date_time', values='KWH/hh')\n",
    "print(a_2012_.shape)\n",
    "a_2012_.dropna(axis=1, inplace=True)\n",
    "print(a_2012_.shape)"
   ]
  },
  {
   "cell_type": "code",
   "execution_count": 50,
   "metadata": {},
   "outputs": [
    {
     "name": "stdout",
     "output_type": "stream",
     "text": [
      "(1118, 17568)\n",
      "(1118, 0)\n"
     ]
    }
   ],
   "source": [
    "b_2012_ = df_2012_treatment.pivot_table(index='house_id', columns='date_time', values='KWH/hh')\n",
    "print(b_2012_.shape)\n",
    "b_2012_.dropna(axis=1, inplace=True)\n",
    "print(b_2012_.shape)"
   ]
  },
  {
   "cell_type": "code",
   "execution_count": null,
   "metadata": {},
   "outputs": [],
   "source": []
  }
 ],
 "metadata": {
  "kernelspec": {
   "display_name": "Python 3",
   "language": "python",
   "name": "python3"
  },
  "language_info": {
   "codemirror_mode": {
    "name": "ipython",
    "version": 3
   },
   "file_extension": ".py",
   "mimetype": "text/x-python",
   "name": "python",
   "nbconvert_exporter": "python",
   "pygments_lexer": "ipython3",
   "version": "3.8.5"
  }
 },
 "nbformat": 4,
 "nbformat_minor": 4
}
