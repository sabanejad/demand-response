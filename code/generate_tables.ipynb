{
 "cells": [
  {
   "cell_type": "code",
   "execution_count": 1,
   "metadata": {},
   "outputs": [],
   "source": [
    "import pandas as pd\n",
    "import matplotlib.pyplot as plt\n",
    "from datetime import datetime as dt"
   ]
  },
  {
   "cell_type": "markdown",
   "metadata": {},
   "source": [
    "This notebook reads in and combines all 168 csvs into two dataframes and saves them as parquet files: \n",
    "1. first df contains the house_id (str), treated (bool), date_time (str), KWH/hh (float)\n",
    "2. second df contains house_id (str), acorn (str), acorn_group (str)"
   ]
  },
  {
   "cell_type": "code",
   "execution_count": 2,
   "metadata": {},
   "outputs": [],
   "source": [
    "usage_parts = []\n",
    "acorn_parts = []\n",
    "total_usage = pd.DataFrame()\n",
    "total_acorn = pd.DataFrame()"
   ]
  },
  {
   "cell_type": "code",
   "execution_count": 3,
   "metadata": {},
   "outputs": [],
   "source": [
    "for i in range(1, 169):\n",
    "    file_name = 'data/London-Power-Networks/Power-Networks-LCL-June2015(withAcornGps)v2_{0}.csv'.format(i)\n",
    "    usage_parts.append(pd.read_csv(file_name, usecols=[0, 1, 2, 3], header=0, names=['house_id', 'treated', 'date_time', 'KWH/hh'], \n",
    "                         na_values=['Null'], true_values=['ToU'], false_values=['Std']))\n",
    "    acorn_parts.append(pd.read_csv(file_name, usecols=[0, 4, 5], header=0, names=['house_id', 'acorn_group', 'acorn_category']))\n",
    "    "
   ]
  },
  {
   "cell_type": "code",
   "execution_count": 4,
   "metadata": {},
   "outputs": [],
   "source": [
    "total_usage = pd.concat(usage_parts, ignore_index=True)\n",
    "total_acorn = pd.concat(acorn_parts, ignore_index=True)"
   ]
  },
  {
   "cell_type": "code",
   "execution_count": null,
   "metadata": {},
   "outputs": [],
   "source": [
    "total_acorn = total_acorn.drop_duplicates()\n",
    "total_acorn.reset_index(drop=True, inplace=True)"
   ]
  },
  {
   "cell_type": "code",
   "execution_count": 5,
   "metadata": {},
   "outputs": [],
   "source": [
    "# convert date_time from str to datetime\n",
    "total_usage['date_time'] = total_usage['date_time'].astype('M8[ns]')"
   ]
  },
  {
   "cell_type": "code",
   "execution_count": 6,
   "metadata": {},
   "outputs": [],
   "source": [
    "# taking out values that are not on the hh format\n",
    "total_usage = total_usage[total_usage['date_time'].dt.minute % 30 == 0]"
   ]
  },
  {
   "cell_type": "code",
   "execution_count": null,
   "metadata": {},
   "outputs": [],
   "source": [
    "# taking out datapoints that don't have a correct acorn category\n",
    "total_acorn = total_acorn.loc[(total_acorn['acorn_category'] != 'ACORN-U') & \n",
    "                              (total_acorn['acorn_category'] != 'ACORN-')]"
   ]
  },
  {
   "cell_type": "code",
   "execution_count": null,
   "metadata": {},
   "outputs": [],
   "source": [
    "# remove feb 29, 2012 from the 2012 data\n",
    "total_usage_2012 = total_usage_2012.loc[(total_usage_2012['month'] != 2) & (total_usage_2012['day'] != 29)]"
   ]
  },
  {
   "cell_type": "code",
   "execution_count": 7,
   "metadata": {},
   "outputs": [],
   "source": [
    "# let's seperate total_usage into difference years:\n",
    "total_usage_2011 = total_usage.loc[total_usage['date_time'] < dt(2012, 1, 1)]\n",
    "total_usage_2012 = total_usage.loc[(dt(2012, 1, 1) <= total_usage['date_time']) & (total_usage['date_time'] < dt(2013, 1, 1))]\n",
    "total_usage_2013 = total_usage.loc[(dt(2013, 1, 1) <= total_usage['date_time']) & (total_usage['date_time'] < dt(2014, 1, 1))]\n",
    "total_usage_2014 = total_usage.loc[dt(2014, 1, 1) <= total_usage['date_time']]"
   ]
  },
  {
   "cell_type": "code",
   "execution_count": null,
   "metadata": {},
   "outputs": [],
   "source": [
    "# tariff mapper maps date: time to p/kWh\n",
    "# only for 2013: jan through dec\n",
    "tariffs = pd.read_csv('data/London-Power-Networks/tariffs_csv.csv', header=0, \n",
    "                      names=['date_time', 'tariff'])\n",
    "\n",
    "# convert date_time from str to datetime\n",
    "tariffs['date_time'] = tariffs['date_time'].astype('M8[ns]')\n",
    "\n",
    "# A sub-set of 1,100 customers (Dynamic Time of Use or dToU) were given specific times when \n",
    "# their electricity tariff would be higher or lower price than normal – High (67.20p/kWh), \n",
    "# Low (3.99p/kWh) or normal (11.76p/kWh). The rest of the sample (around 4,500) were on a \n",
    "# flat rate of 14.228p/kWh.\n",
    "\n",
    "tariffs['p/kWh'] = 0\n",
    "\n",
    "# col[mask] = val\n",
    "\n",
    "tariffs.loc[tariffs['tariff'] == 'High', 'p/kWh'] = 67.20\n",
    "tariffs.loc[tariffs['tariff'] == 'Normal', 'p/kWh'] = 11.76\n",
    "tariffs.loc[tariffs['tariff'] == 'Low', 'p/kWh'] = 3.99\n",
    "\n",
    "tariffs = tariffs.set_index('date_time')\n",
    "\n",
    "tariffs.head()"
   ]
  },
  {
   "cell_type": "code",
   "execution_count": 8,
   "metadata": {},
   "outputs": [],
   "source": [
    "total_usage.to_parquet('total_usage.gzip', engine='auto', compression='gzip', index=False)\n",
    "total_acorn.to_parquet('total_acorn.gzip', engine='auto', compression='gzip', index=False)\n",
    "\n",
    "total_usage_2011.to_parquet('total_usage_2011.gzip', engine='auto', compression='gzip', index=False)\n",
    "total_usage_2012.to_parquet('total_usage_2012.gzip', engine='auto', compression='gzip', index=False)\n",
    "total_usage_2013.to_parquet('total_usage_2013.gzip', engine='auto', compression='gzip', index=False)\n",
    "total_usage_2014.to_parquet('total_usage_2014.gzip', engine='auto', compression='gzip', index=False)\n",
    "\n",
    "tariffs.to_parquet('tariffs.gzip', engine='auto', compression='gzip', index=True)"
   ]
  }
 ],
 "metadata": {
  "kernelspec": {
   "display_name": "Python 3",
   "language": "python",
   "name": "python3"
  },
  "language_info": {
   "codemirror_mode": {
    "name": "ipython",
    "version": 3
   },
   "file_extension": ".py",
   "mimetype": "text/x-python",
   "name": "python",
   "nbconvert_exporter": "python",
   "pygments_lexer": "ipython3",
   "version": "3.8.5"
  }
 },
 "nbformat": 4,
 "nbformat_minor": 4
}
